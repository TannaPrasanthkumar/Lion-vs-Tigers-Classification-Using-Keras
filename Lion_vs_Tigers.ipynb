{
  "cells": [
    {
      "cell_type": "code",
      "execution_count": null,
      "metadata": {
        "id": "IzrjwE9FlRuC"
      },
      "outputs": [],
      "source": [
        "import os\n",
        "import numpy as np\n",
        "import pandas as pd\n",
        "import matplotlib.pyplot as plt"
      ]
    },
    {
      "cell_type": "code",
      "execution_count": null,
      "metadata": {
        "id": "dLAl7EIRnAVz"
      },
      "outputs": [],
      "source": [
        "dataset_path = os.listdir('/content/Dataset')"
      ]
    },
    {
      "cell_type": "code",
      "execution_count": null,
      "metadata": {
        "colab": {
          "base_uri": "https://localhost:8080/"
        },
        "id": "S9WpafFYoghL",
        "outputId": "d0f57f90-3897-459b-be49-5a761bdedb91"
      },
      "outputs": [
        {
          "name": "stdout",
          "output_type": "stream",
          "text": [
            "['Lion', '.ipynb_checkpoints', 'Tiger']\n"
          ]
        }
      ],
      "source": [
        "animal_types = os.listdir('/content/Dataset')\n",
        "print(animal_types)"
      ]
    },
    {
      "cell_type": "code",
      "execution_count": null,
      "metadata": {
        "colab": {
          "base_uri": "https://localhost:8080/"
        },
        "id": "HB_2dKkjo9Oa",
        "outputId": "69efed48-9000-402c-e216-5524fed7e24c"
      },
      "outputs": [
        {
          "name": "stdout",
          "output_type": "stream",
          "text": [
            "Types of Animals found :  3\n"
          ]
        }
      ],
      "source": [
        "print('Types of Animals found : ', len(animal_types))"
      ]
    },
    {
      "cell_type": "code",
      "execution_count": null,
      "metadata": {
        "id": "VCjepYGppIeI"
      },
      "outputs": [],
      "source": [
        "animals = []\n",
        "\n",
        "for animal_type in animal_types :\n",
        "  if animal_type != '.ipynb_checkpoints':\n",
        "    # Get all the file names\n",
        "    all_animals = os.listdir('Dataset' + '/' + animal_type)\n",
        "    #print(all_animals)\n",
        "    for animal in all_animals:\n",
        "      animals.append((animal_type, str('Dataset' + '/' + animal_type) + '/' + animal))"
      ]
    },
    {
      "cell_type": "code",
      "execution_count": null,
      "metadata": {
        "colab": {
          "base_uri": "https://localhost:8080/"
        },
        "id": "DBaLcWLrq182",
        "outputId": "e0772694-d64a-4ae3-b295-6c7fda9c7eea"
      },
      "outputs": [
        {
          "name": "stdout",
          "output_type": "stream",
          "text": [
            "[('Lion', 'Dataset/Lion/lion3.jpeg'), ('Lion', 'Dataset/Lion/lion14.jpeg'), ('Lion', 'Dataset/Lion/lion1.jpeg'), ('Lion', 'Dataset/Lion/lion13.jpeg'), ('Lion', 'Dataset/Lion/lion11.jpeg'), ('Lion', 'Dataset/Lion/lion6.jpeg'), ('Lion', 'Dataset/Lion/lion5.jpeg'), ('Lion', 'Dataset/Lion/lion2.jpeg'), ('Lion', 'Dataset/Lion/lion9.jpeg'), ('Lion', 'Dataset/Lion/lion12.jpeg'), ('Lion', 'Dataset/Lion/lion8.jpeg'), ('Lion', 'Dataset/Lion/lion4.jpeg'), ('Lion', 'Dataset/Lion/lion10.jpg'), ('Lion', 'Dataset/Lion/lion15.jpeg'), ('Lion', 'Dataset/Lion/lion7.jpeg'), ('Tiger', 'Dataset/Tiger/tiger9.jpeg'), ('Tiger', 'Dataset/Tiger/tiger4.jpeg'), ('Tiger', 'Dataset/Tiger/tiger11.jpeg'), ('Tiger', 'Dataset/Tiger/tiger3.jpeg'), ('Tiger', 'Dataset/Tiger/tiger12.jpeg'), ('Tiger', 'Dataset/Tiger/tiger7.jpeg'), ('Tiger', 'Dataset/Tiger/tiger15.jpeg'), ('Tiger', 'Dataset/Tiger/tiger2.jpeg'), ('Tiger', 'Dataset/Tiger/tiger8.jpeg'), ('Tiger', 'Dataset/Tiger/tiger13.jpeg'), ('Tiger', 'Dataset/Tiger/tiger10.jpeg'), ('Tiger', 'Dataset/Tiger/tiger6.jpeg'), ('Tiger', 'Dataset/Tiger/tiger5.jpeg'), ('Tiger', 'Dataset/Tiger/tiger1.jpeg'), ('Tiger', 'Dataset/Tiger/tiger14.jpeg')]\n"
          ]
        }
      ],
      "source": [
        "print(animals)"
      ]
    },
    {
      "cell_type": "code",
      "execution_count": null,
      "metadata": {
        "colab": {
          "base_uri": "https://localhost:8080/"
        },
        "id": "nCQ-CJ4Fq511",
        "outputId": "ae9a9ef2-cbea-49fa-f0ae-3bae007420c9"
      },
      "outputs": [
        {
          "name": "stdout",
          "output_type": "stream",
          "text": [
            "  animal_type                     image\n",
            "0        Lion   Dataset/Lion/lion3.jpeg\n",
            "1        Lion  Dataset/Lion/lion14.jpeg\n",
            "2        Lion   Dataset/Lion/lion1.jpeg\n",
            "3        Lion  Dataset/Lion/lion13.jpeg\n",
            "4        Lion  Dataset/Lion/lion11.jpeg\n"
          ]
        }
      ],
      "source": [
        "# Buliding a DataFrame\n",
        "\n",
        "animal_df = pd.DataFrame(data = animals, columns = ['animal_type','image'])\n",
        "\n",
        "print(animal_df.head())"
      ]
    },
    {
      "cell_type": "code",
      "execution_count": null,
      "metadata": {
        "colab": {
          "base_uri": "https://localhost:8080/"
        },
        "id": "yBwkyodkrekK",
        "outputId": "8183eece-f98f-402f-a02b-7f3edb494ec1"
      },
      "outputs": [
        {
          "name": "stdout",
          "output_type": "stream",
          "text": [
            "Total number of rooms in the dataset:  30\n"
          ]
        }
      ],
      "source": [
        "# Let's check how many samples for each category are present\n",
        "print(\"Total number of rooms in the dataset: \", len(animal_df))"
      ]
    },
    {
      "cell_type": "code",
      "execution_count": null,
      "metadata": {
        "colab": {
          "base_uri": "https://localhost:8080/"
        },
        "id": "zc0LStLKrqQ8",
        "outputId": "294c3dd0-ae5a-4776-e1f6-f8f1f9493503"
      },
      "outputs": [
        {
          "name": "stdout",
          "output_type": "stream",
          "text": [
            "Animals in each category: \n",
            "Lion     15\n",
            "Tiger    15\n",
            "Name: animal_type, dtype: int64\n"
          ]
        }
      ],
      "source": [
        "animal_count = animal_df['animal_type'].value_counts()\n",
        "\n",
        "print(\"Animals in each category: \")\n",
        "print(animal_count)"
      ]
    },
    {
      "cell_type": "code",
      "execution_count": null,
      "metadata": {
        "id": "0o8UjePPr-_Z"
      },
      "outputs": [],
      "source": [
        "import cv2\n",
        "\n",
        "path = '/content/Dataset/'\n",
        "\n",
        "image_size = 227\n",
        "\n",
        "images = []\n",
        "labels = []\n",
        "\n",
        "for animal in animal_types :\n",
        "  data_path = path + str(animal)\n",
        "  filenames = [i for i in os.listdir(data_path)]\n",
        "\n",
        "  for f in filenames :\n",
        "    img = cv2.imread(data_path + '/' + f)\n",
        "    img = cv2.resize(img, (image_size, image_size))\n",
        "    images.append(img)\n",
        "    labels.append(animal)"
      ]
    },
    {
      "cell_type": "code",
      "execution_count": null,
      "metadata": {
        "colab": {
          "base_uri": "https://localhost:8080/"
        },
        "id": "7K1IfsNXtSd-",
        "outputId": "620b6368-9f5a-42f3-ee7b-4c6b1fb02976"
      },
      "outputs": [
        {
          "data": {
            "text/plain": [
              "(227, 227, 3)"
            ]
          },
          "execution_count": 119,
          "metadata": {},
          "output_type": "execute_result"
        }
      ],
      "source": [
        "images[0].shape"
      ]
    },
    {
      "cell_type": "code",
      "execution_count": null,
      "metadata": {
        "colab": {
          "base_uri": "https://localhost:8080/",
          "height": 35
        },
        "id": "LiWN9p9YtZMP",
        "outputId": "7a95141a-a167-4456-c2ae-a7b4003134d3"
      },
      "outputs": [
        {
          "data": {
            "application/vnd.google.colaboratory.intrinsic+json": {
              "type": "string"
            },
            "text/plain": [
              "'Lion'"
            ]
          },
          "execution_count": 120,
          "metadata": {},
          "output_type": "execute_result"
        }
      ],
      "source": [
        "labels[0]"
      ]
    },
    {
      "cell_type": "code",
      "execution_count": null,
      "metadata": {
        "colab": {
          "base_uri": "https://localhost:8080/"
        },
        "id": "vO7R6W6WtcYk",
        "outputId": "d7a2588d-90fb-4b23-b00e-366f592cec7e"
      },
      "outputs": [
        {
          "data": {
            "text/plain": [
              "(30, 227, 227, 3)"
            ]
          },
          "execution_count": 121,
          "metadata": {},
          "output_type": "execute_result"
        }
      ],
      "source": [
        "# Transformimg images into numpy array\n",
        "images = np.array(images)\n",
        "images.shape"
      ]
    },
    {
      "cell_type": "code",
      "execution_count": null,
      "metadata": {
        "id": "R1j08gs4t3JO"
      },
      "outputs": [],
      "source": [
        "images = images.astype('float32') / 255.0"
      ]
    },
    {
      "cell_type": "code",
      "execution_count": null,
      "metadata": {
        "id": "k5J4jBmMuBrW"
      },
      "outputs": [],
      "source": [
        "from sklearn.preprocessing import LabelEncoder, OneHotEncoder"
      ]
    },
    {
      "cell_type": "code",
      "execution_count": null,
      "metadata": {
        "id": "nK2nPJCCuONX"
      },
      "outputs": [],
      "source": [
        "label_encoder = LabelEncoder()"
      ]
    },
    {
      "cell_type": "code",
      "execution_count": null,
      "metadata": {
        "id": "wZLMaxgTuY3y"
      },
      "outputs": [],
      "source": [
        "labels = label_encoder.fit_transform(labels)"
      ]
    },
    {
      "cell_type": "code",
      "execution_count": null,
      "metadata": {
        "id": "WfdZvgrvve_o"
      },
      "outputs": [],
      "source": []
    },
    {
      "cell_type": "code",
      "execution_count": null,
      "metadata": {
        "id": "3vBWMoa7wOLi"
      },
      "outputs": [],
      "source": []
    },
    {
      "cell_type": "code",
      "execution_count": null,
      "metadata": {
        "colab": {
          "base_uri": "https://localhost:8080/"
        },
        "id": "id5yVwQxwIE7",
        "outputId": "55f18737-806c-4109-d4df-3a0612d6e6b0"
      },
      "outputs": [
        {
          "data": {
            "text/plain": [
              "TensorShape([None, 2])"
            ]
          },
          "execution_count": 126,
          "metadata": {},
          "output_type": "execute_result"
        }
      ],
      "source": [
        "y.shape"
      ]
    },
    {
      "cell_type": "code",
      "execution_count": null,
      "metadata": {
        "id": "Wm0hj5fTwdFl"
      },
      "outputs": [],
      "source": [
        "from sklearn.model_selection import train_test_split\n",
        "from sklearn.metrics import r2_score, mean_squared_error\n",
        "from sklearn.utils import shuffle"
      ]
    },
    {
      "cell_type": "code",
      "execution_count": null,
      "metadata": {
        "colab": {
          "base_uri": "https://localhost:8080/"
        },
        "id": "SD-mUntww8UD",
        "outputId": "37c86920-1440-4add-c247-b16702bcdb25"
      },
      "outputs": [
        {
          "name": "stdout",
          "output_type": "stream",
          "text": [
            "(28, 227, 227, 3)\n",
            "(2, 227, 227, 3)\n"
          ]
        }
      ],
      "source": [
        "images, labels = shuffle(images, labels, random_state = 42)\n",
        "\n",
        "x_train, x_test, y_train, y_test = train_test_split(images, labels, test_size = 0.05, random_state = 42)\n",
        "\n",
        "print(x_train.shape)\n",
        "print(x_test.shape)"
      ]
    },
    {
      "cell_type": "code",
      "execution_count": null,
      "metadata": {
        "colab": {
          "base_uri": "https://localhost:8080/"
        },
        "id": "UrxG_wrmQEry",
        "outputId": "b1ce11c4-3c1c-4f59-a9ac-7585b0c94b15"
      },
      "outputs": [
        {
          "data": {
            "text/plain": [
              "array([1, 0, 0, 0, 1, 1, 0, 1, 0, 0, 0, 0, 1, 1, 1, 1, 0, 1, 1, 0, 1, 0,\n",
              "       1, 1, 0, 0, 0, 1])"
            ]
          },
          "execution_count": 129,
          "metadata": {},
          "output_type": "execute_result"
        }
      ],
      "source": [
        "y_train"
      ]
    },
    {
      "cell_type": "code",
      "execution_count": null,
      "metadata": {
        "id": "rdV3i1Jrwzpj"
      },
      "outputs": [],
      "source": [
        "import tensorflow as tf\n",
        "\n",
        "num_classes = 2\n",
        "\n",
        "# Input tensor for images\n",
        "x = tf.keras.layers.Input(shape=(227, 227, 3), dtype=tf.float32)\n",
        "\n",
        "# Output tensor for one-hot encoded labels\n",
        "y = tf.keras.layers.Input(shape=(num_classes,), dtype=tf.float32)"
      ]
    },
    {
      "cell_type": "code",
      "execution_count": null,
      "metadata": {
        "id": "v5rNZoJMGzHq"
      },
      "outputs": [],
      "source": [
        "import tensorflow\n",
        "from tensorflow import keras\n",
        "from tensorflow.keras import Sequential\n",
        "from tensorflow.keras.layers import Conv2D, Flatten, MaxPooling2D, Dense"
      ]
    },
    {
      "cell_type": "code",
      "execution_count": null,
      "metadata": {
        "id": "9Di875nOHVwm"
      },
      "outputs": [],
      "source": [
        "input_shape = (227,227,3)"
      ]
    },
    {
      "cell_type": "code",
      "execution_count": null,
      "metadata": {
        "id": "8OF2PrAtx8-C"
      },
      "outputs": [],
      "source": [
        "model = Sequential()\n",
        "\n",
        "model.add(Conv2D(kernel_size = (11,11), filters = 96, strides = 4, activation = 'relu', input_shape = (227,227,3)))\n",
        "model.add(MaxPooling2D(pool_size = (3,3), strides = 2))\n",
        "\n",
        "model.add(Conv2D(kernel_size = (5,5), filters = 256, padding = 'same', activation = 'relu'))\n",
        "model.add(MaxPooling2D(pool_size = (3,3), strides = 2))\n",
        "\n",
        "model.add(Conv2D(kernel_size = (3,3), filters = 384, padding = 'same', activation = 'relu'))\n",
        "\n",
        "model.add(Conv2D(kernel_size = (3,3), filters = 384, padding = 'same', activation = 'relu'))\n",
        "\n",
        "model.add(Conv2D(kernel_size = (3,3), filters = 256, padding = 'same', activation = 'relu'))\n",
        "model.add(MaxPooling2D(pool_size = (3,3), strides = 2))\n",
        "\n",
        "model.add(Flatten())\n",
        "\n",
        "model.add(Dense(units = 4096, activation = 'relu'))\n",
        "\n",
        "model.add(Dense(units = 4096, activation = 'relu'))\n",
        "\n",
        "model.add(Dense(units = 1000, activation = 'softmax'))\n",
        "\n",
        "model.compile(optimizer = 'adam', loss = 'sparse_categorical_crossentropy', metrics = ['accuracy'])"
      ]
    },
    {
      "cell_type": "code",
      "execution_count": null,
      "metadata": {
        "colab": {
          "base_uri": "https://localhost:8080/"
        },
        "id": "Lm2jwfi6MAjb",
        "outputId": "33e911e0-15da-4e20-f4d5-5a008b1375aa"
      },
      "outputs": [
        {
          "name": "stdout",
          "output_type": "stream",
          "text": [
            "Model: \"sequential_3\"\n",
            "_________________________________________________________________\n",
            " Layer (type)                Output Shape              Param #   \n",
            "=================================================================\n",
            " conv2d_15 (Conv2D)          (None, 55, 55, 96)        34944     \n",
            "                                                                 \n",
            " max_pooling2d_9 (MaxPoolin  (None, 27, 27, 96)        0         \n",
            " g2D)                                                            \n",
            "                                                                 \n",
            " conv2d_16 (Conv2D)          (None, 27, 27, 256)       614656    \n",
            "                                                                 \n",
            " max_pooling2d_10 (MaxPooli  (None, 13, 13, 256)       0         \n",
            " ng2D)                                                           \n",
            "                                                                 \n",
            " conv2d_17 (Conv2D)          (None, 13, 13, 384)       885120    \n",
            "                                                                 \n",
            " conv2d_18 (Conv2D)          (None, 13, 13, 384)       1327488   \n",
            "                                                                 \n",
            " conv2d_19 (Conv2D)          (None, 13, 13, 256)       884992    \n",
            "                                                                 \n",
            " max_pooling2d_11 (MaxPooli  (None, 6, 6, 256)         0         \n",
            " ng2D)                                                           \n",
            "                                                                 \n",
            " flatten_3 (Flatten)         (None, 9216)              0         \n",
            "                                                                 \n",
            " dense_9 (Dense)             (None, 4096)              37752832  \n",
            "                                                                 \n",
            " dense_10 (Dense)            (None, 4096)              16781312  \n",
            "                                                                 \n",
            " dense_11 (Dense)            (None, 1000)              4097000   \n",
            "                                                                 \n",
            "=================================================================\n",
            "Total params: 62378344 (237.95 MB)\n",
            "Trainable params: 62378344 (237.95 MB)\n",
            "Non-trainable params: 0 (0.00 Byte)\n",
            "_________________________________________________________________\n"
          ]
        }
      ],
      "source": [
        "model.summary()"
      ]
    },
    {
      "cell_type": "code",
      "execution_count": null,
      "metadata": {
        "colab": {
          "base_uri": "https://localhost:8080/"
        },
        "id": "NVKrKnXtML-l",
        "outputId": "d54c74dc-1b56-40b2-a3d7-7d70ee34ad75"
      },
      "outputs": [
        {
          "name": "stdout",
          "output_type": "stream",
          "text": [
            "Epoch 1/30\n",
            "1/1 [==============================] - 3s 3s/step - loss: 0.6763 - accuracy: 0.5000 - val_loss: 1.3861 - val_accuracy: 0.5000\n",
            "Epoch 2/30\n",
            "1/1 [==============================] - 3s 3s/step - loss: 1.7414 - accuracy: 0.5000 - val_loss: 4.4357 - val_accuracy: 0.5000\n",
            "Epoch 3/30\n",
            "1/1 [==============================] - 3s 3s/step - loss: 4.2783 - accuracy: 0.5000 - val_loss: 1.9942 - val_accuracy: 0.5000\n",
            "Epoch 4/30\n",
            "1/1 [==============================] - 3s 3s/step - loss: 1.8941 - accuracy: 0.5000 - val_loss: 0.7258 - val_accuracy: 0.5000\n",
            "Epoch 5/30\n",
            "1/1 [==============================] - 3s 3s/step - loss: 0.8026 - accuracy: 0.5000 - val_loss: 0.8404 - val_accuracy: 0.5000\n",
            "Epoch 6/30\n",
            "1/1 [==============================] - 3s 3s/step - loss: 0.9709 - accuracy: 0.5000 - val_loss: 1.0395 - val_accuracy: 0.5000\n",
            "Epoch 7/30\n",
            "1/1 [==============================] - 3s 3s/step - loss: 1.0394 - accuracy: 0.5000 - val_loss: 1.1708 - val_accuracy: 0.5000\n",
            "Epoch 8/30\n",
            "1/1 [==============================] - 3s 3s/step - loss: 1.1576 - accuracy: 0.5000 - val_loss: 0.9582 - val_accuracy: 0.5000\n",
            "Epoch 9/30\n",
            "1/1 [==============================] - 3s 3s/step - loss: 1.0711 - accuracy: 0.5000 - val_loss: 0.9730 - val_accuracy: 0.5000\n",
            "Epoch 10/30\n",
            "1/1 [==============================] - 3s 3s/step - loss: 1.1101 - accuracy: 0.5000 - val_loss: 0.8735 - val_accuracy: 0.5000\n",
            "Epoch 11/30\n",
            "1/1 [==============================] - 3s 3s/step - loss: 0.9664 - accuracy: 0.5000 - val_loss: 0.7947 - val_accuracy: 0.5000\n",
            "Epoch 12/30\n",
            "1/1 [==============================] - 3s 3s/step - loss: 0.8214 - accuracy: 0.5000 - val_loss: 0.7712 - val_accuracy: 0.5000\n",
            "Epoch 13/30\n",
            "1/1 [==============================] - 3s 3s/step - loss: 0.7491 - accuracy: 0.5000 - val_loss: 0.8349 - val_accuracy: 0.5000\n",
            "Epoch 14/30\n",
            "1/1 [==============================] - 3s 3s/step - loss: 0.7659 - accuracy: 0.5000 - val_loss: 0.7762 - val_accuracy: 0.5000\n",
            "Epoch 15/30\n",
            "1/1 [==============================] - 3s 3s/step - loss: 0.7348 - accuracy: 0.5000 - val_loss: 0.7242 - val_accuracy: 0.5000\n",
            "Epoch 16/30\n",
            "1/1 [==============================] - 3s 3s/step - loss: 0.7037 - accuracy: 0.5000 - val_loss: 0.6989 - val_accuracy: 0.0000e+00\n",
            "Epoch 17/30\n",
            "1/1 [==============================] - 3s 3s/step - loss: 0.6934 - accuracy: 0.6429 - val_loss: 0.6902 - val_accuracy: 0.5000\n",
            "Epoch 18/30\n",
            "1/1 [==============================] - 3s 3s/step - loss: 0.6954 - accuracy: 0.5000 - val_loss: 0.6885 - val_accuracy: 0.5000\n",
            "Epoch 19/30\n",
            "1/1 [==============================] - 3s 3s/step - loss: 0.6979 - accuracy: 0.5000 - val_loss: 0.6875 - val_accuracy: 0.5000\n",
            "Epoch 20/30\n",
            "1/1 [==============================] - 3s 3s/step - loss: 0.6950 - accuracy: 0.5000 - val_loss: 0.6885 - val_accuracy: 0.5000\n",
            "Epoch 21/30\n",
            "1/1 [==============================] - 3s 3s/step - loss: 0.6908 - accuracy: 0.5000 - val_loss: 0.6930 - val_accuracy: 0.5000\n",
            "Epoch 22/30\n",
            "1/1 [==============================] - 3s 3s/step - loss: 0.6894 - accuracy: 0.6071 - val_loss: 0.6988 - val_accuracy: 0.5000\n",
            "Epoch 23/30\n",
            "1/1 [==============================] - 3s 3s/step - loss: 0.6908 - accuracy: 0.5000 - val_loss: 0.7023 - val_accuracy: 0.5000\n",
            "Epoch 24/30\n",
            "1/1 [==============================] - 3s 3s/step - loss: 0.6921 - accuracy: 0.5000 - val_loss: 0.7012 - val_accuracy: 0.5000\n",
            "Epoch 25/30\n",
            "1/1 [==============================] - 3s 3s/step - loss: 0.6911 - accuracy: 0.5000 - val_loss: 0.6962 - val_accuracy: 0.5000\n",
            "Epoch 26/30\n",
            "1/1 [==============================] - 3s 3s/step - loss: 0.6884 - accuracy: 0.5000 - val_loss: 0.6901 - val_accuracy: 1.0000\n",
            "Epoch 27/30\n",
            "1/1 [==============================] - 3s 3s/step - loss: 0.6861 - accuracy: 0.6071 - val_loss: 0.6858 - val_accuracy: 0.5000\n",
            "Epoch 28/30\n",
            "1/1 [==============================] - 3s 3s/step - loss: 0.6858 - accuracy: 0.5000 - val_loss: 0.6840 - val_accuracy: 0.5000\n",
            "Epoch 29/30\n",
            "1/1 [==============================] - 3s 3s/step - loss: 0.6864 - accuracy: 0.5000 - val_loss: 0.6835 - val_accuracy: 0.5000\n",
            "Epoch 30/30\n",
            "1/1 [==============================] - 3s 3s/step - loss: 0.6855 - accuracy: 0.5000 - val_loss: 0.6845 - val_accuracy: 0.5000\n"
          ]
        },
        {
          "data": {
            "text/plain": [
              "<keras.src.callbacks.History at 0x7d1622c93d90>"
            ]
          },
          "execution_count": 136,
          "metadata": {},
          "output_type": "execute_result"
        }
      ],
      "source": [
        "model.fit(x_train, y_train, epochs = 30, validation_data = (x_test, y_test))"
      ]
    },
    {
      "cell_type": "code",
      "execution_count": null,
      "metadata": {
        "id": "RCPkGqCXNOvb"
      },
      "outputs": [],
      "source": [
        "from tensorflow.keras.preprocessing import image\n",
        "\n",
        "def preprocess_image(img_path):\n",
        "    img = image.load_img(img_path, target_size=(227, 227))\n",
        "    img_array = image.img_to_array(img)\n",
        "    img_array = np.expand_dims(img_array, axis=0)\n",
        "    return img_array"
      ]
    },
    {
      "cell_type": "code",
      "execution_count": null,
      "metadata": {
        "id": "I5_jIN0NTdZa"
      },
      "outputs": [],
      "source": [
        "image = preprocess_image('/content/lion.jpeg')"
      ]
    },
    {
      "cell_type": "code",
      "execution_count": null,
      "metadata": {
        "colab": {
          "base_uri": "https://localhost:8080/"
        },
        "id": "5GHq8gnRTwA1",
        "outputId": "3c552e45-94aa-4b28-ef60-57db43bc8bdc"
      },
      "outputs": [
        {
          "name": "stdout",
          "output_type": "stream",
          "text": [
            "1/1 [==============================] - 0s 54ms/step\n"
          ]
        }
      ],
      "source": [
        "summary = model.predict(image)"
      ]
    },
    {
      "cell_type": "code",
      "execution_count": null,
      "metadata": {
        "id": "Tw1D0pB4VKSs"
      },
      "outputs": [],
      "source": [
        "def predict_animal(model, img_path):\n",
        "\n",
        "    img_array = preprocess_image(img_path)\n",
        "\n",
        "    predictions = model.predict(img_array)\n",
        "\n",
        "    max_probability_index = np.argmax(predictions)\n",
        "    predicted_class = label_encoder.classes_[max_probability_index]\n",
        "\n",
        "    return predicted_class\n"
      ]
    },
    {
      "cell_type": "code",
      "execution_count": null,
      "metadata": {
        "colab": {
          "base_uri": "https://localhost:8080/",
          "height": 52
        },
        "id": "oEfrHg4aV2if",
        "outputId": "e415469b-c93a-46b9-b5cc-a2db21585877"
      },
      "outputs": [
        {
          "name": "stdout",
          "output_type": "stream",
          "text": [
            "1/1 [==============================] - 0s 56ms/step\n"
          ]
        },
        {
          "data": {
            "application/vnd.google.colaboratory.intrinsic+json": {
              "type": "string"
            },
            "text/plain": [
              "'Tiger'"
            ]
          },
          "execution_count": 152,
          "metadata": {},
          "output_type": "execute_result"
        }
      ],
      "source": [
        "img_path = '/content/animal.jpeg'\n",
        "predict_animal(model,img_path)"
      ]
    }
  ],
  "metadata": {
    "colab": {
      "provenance": []
    },
    "kernelspec": {
      "display_name": "Python 3",
      "name": "python3"
    },
    "language_info": {
      "name": "python"
    }
  },
  "nbformat": 4,
  "nbformat_minor": 0
}
